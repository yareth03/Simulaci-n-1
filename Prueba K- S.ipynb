{
  "nbformat": 4,
  "nbformat_minor": 0,
  "metadata": {
    "colab": {
      "provenance": [],
      "authorship_tag": "ABX9TyOGOZKe7IGuexov08oGAqfZ",
      "include_colab_link": true
    },
    "kernelspec": {
      "name": "python3",
      "display_name": "Python 3"
    },
    "language_info": {
      "name": "python"
    }
  },
  "cells": [
    {
      "cell_type": "markdown",
      "metadata": {
        "id": "view-in-github",
        "colab_type": "text"
      },
      "source": [
        "<a href=\"https://colab.research.google.com/github/yareth03/Simulaci-n-1/blob/main/Prueba%20K-%20S.ipynb\" target=\"_parent\"><img src=\"https://colab.research.google.com/assets/colab-badge.svg\" alt=\"Open In Colab\"/></a>"
      ]
    },
    {
      "cell_type": "code",
      "execution_count": 1,
      "metadata": {
        "colab": {
          "base_uri": "https://localhost:8080/"
        },
        "id": "bzwXi2RnnKbk",
        "outputId": "2607dbcf-5a6c-4548-d27d-c3c333f318c5"
      },
      "outputs": [
        {
          "output_type": "stream",
          "name": "stdout",
          "text": [
            "Estadístico KS:  0.16900000000000004\n",
            "Valor p:  0.42600127332744464\n",
            "No se rechaza la hipótesis \n"
          ]
        }
      ],
      "source": [
        "import numpy as np\n",
        "from scipy.stats import kstest\n",
        "\n",
        "def prueba_ks():\n",
        "    # Lista de números aleatorios proporcionada\n",
        "    alea = [0.048, 0.926 , 0.368, 0.787 , 0.298, 0.591, 0.007, 0.437, 0.594, 0.199,\n",
        "            0.478, 0.551, 0.178, 0.086, 0.157, 0.166, 0.362, 0.411, 0.951, 0.401,\n",
        "            0.932, 0.533, 0.545, 0.772 , 0.631]\n",
        "\n",
        "    # Ordenar los valores de menor a mayor para la prueba\n",
        "    alea.sort()\n",
        "\n",
        "    # Prueba de Kolmogorov-Smirnov\n",
        "    ks_stat, p_value = kstest(alea, 'uniform', args=(0, 1))\n",
        "\n",
        "\n",
        "    print(\"Estadístico KS: \",ks_stat)\n",
        "    print(\"Valor p: \",p_value)\n",
        "\n",
        "    if p_value > 0.05:\n",
        "        print(\"No se rechaza la hipótesis \")\n",
        "    else:\n",
        "        print(\"Se rechaza la hipótesis \")\n",
        "\n",
        "prueba_ks()"
      ]
    }
  ]
}