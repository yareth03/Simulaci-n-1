{
  "nbformat": 4,
  "nbformat_minor": 0,
  "metadata": {
    "colab": {
      "provenance": [],
      "authorship_tag": "ABX9TyN9MtCCJNJEk10YlhL/nuIf",
      "include_colab_link": true
    },
    "kernelspec": {
      "name": "python3",
      "display_name": "Python 3"
    },
    "language_info": {
      "name": "python"
    }
  },
  "cells": [
    {
      "cell_type": "markdown",
      "metadata": {
        "id": "view-in-github",
        "colab_type": "text"
      },
      "source": [
        "<a href=\"https://colab.research.google.com/github/yareth03/Simulaci-n-1/blob/main/Tablero.ipynb\" target=\"_parent\"><img src=\"https://colab.research.google.com/assets/colab-badge.svg\" alt=\"Open In Colab\"/></a>"
      ]
    },
    {
      "cell_type": "code",
      "execution_count": 1,
      "metadata": {
        "colab": {
          "base_uri": "https://localhost:8080/"
        },
        "id": "WXOqw132BDqD",
        "outputId": "346ac4af-be90-4272-aacd-6f60c0dc0e68"
      },
      "outputs": [
        {
          "output_type": "stream",
          "name": "stdout",
          "text": [
            "Frecuencias por color [Rojo, Naranja, Verde, Azul]:\n",
            "[0.257, 0.239, 0.256, 0.248]\n"
          ]
        }
      ],
      "source": [
        "import random\n",
        "\n",
        "\n",
        "# Empezamos en el color rojo asignado como posición 0\n",
        "posicion = 0\n",
        "conteo = [0, 0, 0, 0]  # contar cuántas veces cae en cada color\n",
        "pasos = 1000  # pasos simulados\n",
        "\n",
        "\n",
        "for i in range(pasos):\n",
        "    # Simulamos las 2 monedas donde 0 es cruz y 1 es cara\n",
        "    # Usamos random.choice para que elija entre 0 y 1 (cruz o cara)\n",
        "    moneda1 = random.choice([0, 1])\n",
        "    moneda2 = random.choice([0, 1])\n",
        "    avance = moneda1 + moneda2\n",
        "\n",
        "    # Avanzar en el círculo\n",
        "    posicion = (posicion + avance) % 4\n",
        "\n",
        "    # Registrar visita\n",
        "    conteo[posicion] += 1\n",
        "\n",
        "\n",
        "# Normalizar resultados para obtener frecuencias\n",
        "frecuencias = [c / pasos for c in conteo]\n",
        "\n",
        "\n",
        "# Mostramos los resultados\n",
        "print(\"Frecuencias por color [Rojo, Naranja, Verde, Azul]:\")\n",
        "print(frecuencias)"
      ]
    }
  ]
}