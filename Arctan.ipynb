{
  "nbformat": 4,
  "nbformat_minor": 0,
  "metadata": {
    "colab": {
      "provenance": [],
      "authorship_tag": "ABX9TyPutj/UUW+1ZATEI86cmGO0",
      "include_colab_link": true
    },
    "kernelspec": {
      "name": "python3",
      "display_name": "Python 3"
    },
    "language_info": {
      "name": "python"
    }
  },
  "cells": [
    {
      "cell_type": "markdown",
      "metadata": {
        "id": "view-in-github",
        "colab_type": "text"
      },
      "source": [
        "<a href=\"https://colab.research.google.com/github/yareth03/Simulaci-n-1/blob/main/Arctan.ipynb\" target=\"_parent\"><img src=\"https://colab.research.google.com/assets/colab-badge.svg\" alt=\"Open In Colab\"/></a>"
      ]
    },
    {
      "cell_type": "code",
      "execution_count": null,
      "metadata": {
        "id": "t28EiaHhx8lZ"
      },
      "outputs": [],
      "source": [
        "\n",
        "import numpy as np\n",
        "\n",
        "def punto():\n",
        "    ux = -1 + 2 * np.random.uniform()\n",
        "    uy = -1 + 2 * np.random.uniform()\n",
        "    return (ux, uy)\n",
        "\n",
        "n = 10**6\n",
        "Ap = 0\n",
        "\n",
        "for i in range(n):\n",
        "    x, y = punto()\n",
        "    if y <= np.sqrt(np.arctan(x)):\n",
        "        Ap += 1\n",
        "\n",
        "probabilidad = Ap / n\n",
        "\n",
        "print(\"Puntos dentro de la región:\", Ap)\n",
        "print(\"Probabilidad de que un punto caiga dentro de la región:\", probabilidad)"
      ]
    }
  ]
}