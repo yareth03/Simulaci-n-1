{
  "nbformat": 4,
  "nbformat_minor": 0,
  "metadata": {
    "colab": {
      "provenance": [],
      "authorship_tag": "ABX9TyN+dnBOL3A4HAHeFSXeVLyc",
      "include_colab_link": true
    },
    "kernelspec": {
      "name": "python3",
      "display_name": "Python 3"
    },
    "language_info": {
      "name": "python"
    }
  },
  "cells": [
    {
      "cell_type": "markdown",
      "metadata": {
        "id": "view-in-github",
        "colab_type": "text"
      },
      "source": [
        "<a href=\"https://colab.research.google.com/github/yareth03/Simulaci-n-1/blob/main/Arctan.ipynb\" target=\"_parent\"><img src=\"https://colab.research.google.com/assets/colab-badge.svg\" alt=\"Open In Colab\"/></a>"
      ]
    },
    {
      "cell_type": "code",
      "execution_count": 1,
      "metadata": {
        "colab": {
          "base_uri": "https://localhost:8080/"
        },
        "id": "t28EiaHhx8lZ",
        "outputId": "47222f6d-d888-4f29-aab3-329fa81ac519"
      },
      "outputs": [
        {
          "output_type": "stream",
          "name": "stderr",
          "text": [
            "<ipython-input-1-f9872c86c722>:13: RuntimeWarning: invalid value encountered in sqrt\n",
            "  if y <= np.sqrt(np.arctan(x)):\n"
          ]
        },
        {
          "output_type": "stream",
          "name": "stdout",
          "text": [
            "Puntos dentro de la región: 406442\n",
            "Probabilidad de que un punto caiga dentro de la región: 0.406442\n"
          ]
        }
      ],
      "source": [
        "#Importamos la librería Numpy\n",
        "import numpy as np\n",
        "#Obtenemos los puntos a utilizar y cuestionar si están en el area\n",
        "def punto():\n",
        "    ux = -1 + 2 * np.random.uniform()\n",
        "    uy = -1 + 2 * np.random.uniform()\n",
        "    return (ux, uy)\n",
        "#n grande para obtener mejor aproximación\n",
        "n = 10**3\n",
        "#contador de puntos dentro\n",
        "Ap = 0\n",
        "\n",
        "for i in range(n):\n",
        "    x, y = punto()\n",
        "#condicional para saber si está dentro o no\n",
        "    if y <= np.sqrt(np.arctan(x)):\n",
        "        Ap += 1\n",
        "#Obtenemos la probabilidad\n",
        "probabilidad = Ap / n\n",
        "\n",
        "print(\"Puntos dentro de la región:\", Ap)\n",
        "print(\"Probabilidad de que un punto caiga dentro de la región:\", probabilidad)"
      ]
    }
  ]
}