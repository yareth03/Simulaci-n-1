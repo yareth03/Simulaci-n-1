{
  "nbformat": 4,
  "nbformat_minor": 0,
  "metadata": {
    "colab": {
      "provenance": [],
      "authorship_tag": "ABX9TyOim6HllCyRLHK88E1Zt4Iv",
      "include_colab_link": true
    },
    "kernelspec": {
      "name": "python3",
      "display_name": "Python 3"
    },
    "language_info": {
      "name": "python"
    }
  },
  "cells": [
    {
      "cell_type": "markdown",
      "metadata": {
        "id": "view-in-github",
        "colab_type": "text"
      },
      "source": [
        "<a href=\"https://colab.research.google.com/github/yareth03/Simulaci-n-1/blob/main/pruebaindp.ipynb\" target=\"_parent\"><img src=\"https://colab.research.google.com/assets/colab-badge.svg\" alt=\"Open In Colab\"/></a>"
      ]
    },
    {
      "cell_type": "code",
      "execution_count": null,
      "metadata": {
        "colab": {
          "base_uri": "https://localhost:8080/"
        },
        "id": "m2KWwrN_pKS3",
        "outputId": "0ac48beb-d8af-4491-e8cf-cc6e28fbd8ea"
      },
      "outputs": [
        {
          "output_type": "stream",
          "name": "stdout",
          "text": [
            "El numero de corridas es:  16\n",
            "Está dentro del intervalo de confianza\n"
          ]
        }
      ],
      "source": [
        "\n",
        "import math\n",
        "\n",
        "def pruebadeind():\n",
        "  alea = [0.048, 0.926 , 0.368, 0.787 , 0.298, 0.591, 0.007, 0.437, 0.594, 0.199, 0.478, 0.551, 0.178, 0.086, 0.157, 0.166, 0.362, 0.411, 0.951, 0.401, 0.932, 0.533, 0.545, 0.772 , 0.631]\n",
        "  s=[]\n",
        "  for i in range(len(alea )-1):\n",
        "    if alea[i+1]<alea[i]:\n",
        "      s.append(0)\n",
        "    else :\n",
        "      s.append (1)\n",
        "  n=1\n",
        "  for i in range(len(s)-1):\n",
        "    if s[i+1]!=s[i]:\n",
        "      n+=1\n",
        "  print (\"El numero de corridas es: \",n)\n",
        "  miu=(2*len(s) -1)/3\n",
        "  var=math.sqrt(((16*len(s)-29)/90))\n",
        "  z= (n-miu)/var\n",
        "  if -1.96<=z and z<=1.96:\n",
        "    print( \"Está dentro del intervalo de confianza, no se rechaza la hipótesis de independencia\")\n",
        "  else:\n",
        "    print(\"No está en el intervalo de confianza, se rechaza la hipótesis de independencia\")\n",
        "\n",
        "\n",
        "\n",
        "\n",
        "\n",
        "\n",
        "pruebadeind()"
      ]
    }
  ]
}