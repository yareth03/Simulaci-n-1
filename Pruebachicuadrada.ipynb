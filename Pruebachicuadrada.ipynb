{
  "nbformat": 4,
  "nbformat_minor": 0,
  "metadata": {
    "colab": {
      "provenance": [],
      "name": "Pruebachi.ipynb",
      "authorship_tag": "ABX9TyPBl6+nXVtEHBl5SMQqBsic",
      "include_colab_link": true
    },
    "kernelspec": {
      "name": "python3",
      "display_name": "Python 3"
    },
    "language_info": {
      "name": "python"
    }
  },
  "cells": [
    {
      "cell_type": "markdown",
      "metadata": {
        "id": "view-in-github",
        "colab_type": "text"
      },
      "source": [
        "<a href=\"https://colab.research.google.com/github/yareth03/Simulaci-n-1/blob/main/Pruebachicuadrada.ipynb\" target=\"_parent\"><img src=\"https://colab.research.google.com/assets/colab-badge.svg\" alt=\"Open In Colab\"/></a>"
      ]
    },
    {
      "cell_type": "code",
      "execution_count": null,
      "metadata": {
        "colab": {
          "base_uri": "https://localhost:8080/"
        },
        "id": "n097AaOykTHT",
        "outputId": "5d1564f9-47ab-4e5d-881f-783af2d55a5b"
      },
      "outputs": [
        {
          "output_type": "stream",
          "name": "stdout",
          "text": [
            "Valor de chi-cuadrado calculado:  6.4\n",
            "Valor crítico de chi-cuadrado para (k-1) grados de libertad:  9.487729036781154\n",
            "No se rechaza la hipótesis \n"
          ]
        }
      ],
      "source": [
        "\n",
        "import math\n",
        "from scipy.stats import chi2\n",
        "\n",
        "def prueba_chi_cuadrada():\n",
        "    # Lista de números aleatorios proporcionada en classroom\n",
        "    alea = [0.048, 0.926 , 0.368, 0.787 , 0.298, 0.591, 0.007, 0.437, 0.594, 0.199,\n",
        "            0.478, 0.551, 0.178, 0.086, 0.157, 0.166, 0.362, 0.411, 0.951, 0.401,\n",
        "            0.932, 0.533, 0.545, 0.772 , 0.631]\n",
        "\n",
        "    # Separar lista en intervalos\n",
        "    k = 5\n",
        "    intervalos = [0] * k\n",
        "    n = len(alea)\n",
        "\n",
        "    # Contar la frecuencia en cada intervalo\n",
        "    for num in alea:\n",
        "        index = min(int(num * k), k - 1)  # Asigna el número al intervalo correspondiente\n",
        "        intervalos[index] += 1\n",
        "\n",
        "    # Frecuencia esperada\n",
        "    fe = n / k\n",
        "\n",
        "    # Chi-cuadrado\n",
        "    chi_sq = sum(((fo - fe) ** 2) / fe for fo in intervalos)\n",
        "\n",
        "    # Valor crítico para chi-cuadrado con (k-1) grados de libertad y 95% de confianza\n",
        "    chi_critico = chi2.ppf(0.95, k - 1)\n",
        "\n",
        "\n",
        "\n",
        "    print(f\"Valor de chi-cuadrado calculado: \", chi_sq)\n",
        "    print(f\"Valor crítico de chi-cuadrado para (k-1) grados de libertad: \", chi_critico)\n",
        "\n",
        "    if chi_sq < chi_critico:\n",
        "        print(\"No se rechaza la hipótesis \")\n",
        "    else:\n",
        "        print(\"Se rechaza la hipótesis \")\n",
        "\n",
        "prueba_chi_cuadrada()"
      ]
    }
  ]
}