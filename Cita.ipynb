{
  "nbformat": 4,
  "nbformat_minor": 0,
  "metadata": {
    "colab": {
      "provenance": [],
      "authorship_tag": "ABX9TyMnu9sBRpYbF1kz6Z+ZxwhH",
      "include_colab_link": true
    },
    "kernelspec": {
      "name": "python3",
      "display_name": "Python 3"
    },
    "language_info": {
      "name": "python"
    }
  },
  "cells": [
    {
      "cell_type": "markdown",
      "metadata": {
        "id": "view-in-github",
        "colab_type": "text"
      },
      "source": [
        "<a href=\"https://colab.research.google.com/github/yareth03/Simulaci-n-1/blob/main/Cita.ipynb\" target=\"_parent\"><img src=\"https://colab.research.google.com/assets/colab-badge.svg\" alt=\"Open In Colab\"/></a>"
      ]
    },
    {
      "cell_type": "code",
      "execution_count": 1,
      "metadata": {
        "colab": {
          "base_uri": "https://localhost:8080/"
        },
        "id": "FOv1m5cGRE-v",
        "outputId": "1378c524-d5c8-4b77-fd4d-1b36ca3d101f"
      },
      "outputs": [
        {
          "output_type": "stream",
          "name": "stdout",
          "text": [
            "Probabilidad estimada por simulación: 0.5543\n"
          ]
        }
      ],
      "source": [
        "import numpy as np\n",
        "\n",
        "def simular_probabilidad(n_simulaciones=100000):\n",
        "    llegada_persona1 = np.random.uniform(0, 30, n_simulaciones)\n",
        "    llegada_persona2 = np.random.uniform(0, 30, n_simulaciones)\n",
        "\n",
        "    diferencias = np.abs(llegada_persona1 - llegada_persona2)\n",
        "    exitos = np.sum(diferencias <= 10)\n",
        "\n",
        "    probabilidad_estimada = exitos / n_simulaciones\n",
        "    return probabilidad_estimada\n",
        "\n",
        "\n",
        "prob = simular_probabilidad()\n",
        "print(f\"Probabilidad estimada por simulación: {prob:.4f}\")"
      ]
    }
  ]
}